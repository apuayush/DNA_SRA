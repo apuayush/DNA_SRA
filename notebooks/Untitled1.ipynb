{
 "cells": [
  {
   "cell_type": "code",
   "execution_count": 1,
   "metadata": {},
   "outputs": [
    {
     "name": "stderr",
     "output_type": "stream",
     "text": [
      "/home/apurvnit/anaconda3/lib/python3.5/site-packages/ipykernel/__main__.py:17: DeprecationWarning: `imread` is deprecated!\n",
      "`imread` is deprecated in SciPy 1.0.0, and will be removed in 1.2.0.\n",
      "Use ``imageio.imread`` instead.\n"
     ]
    },
    {
     "name": "stdout",
     "output_type": "stream",
     "text": [
      "Img          255.0 0.0\n",
      "Original Lap 1350.702 -1385.0549\n",
      "Scaled Lap   100.0 -102.54334\n",
      "SharpImg     351.755 -101.603065\n",
      "SharpImg abs 351.755 0.0\n",
      "SharpImg after scaling 255.0 0.0\n"
     ]
    },
    {
     "data": {
      "text/plain": [
       "<matplotlib.image.AxesImage at 0x7f5bd01d97f0>"
      ]
     },
     "execution_count": 1,
     "metadata": {},
     "output_type": "execute_result"
    }
   ],
   "source": [
    "import numpy as np\n",
    "import matplotlib.pyplot as plt\n",
    "import matplotlib.cm as cm\n",
    "import scipy.misc\n",
    "import scipy.ndimage.filters\n",
    "import cv2\n",
    "\n",
    "#Function for plotting abs:\n",
    "pic_n       = 1\n",
    "def show_abs(I, plot_title):\n",
    "    plt.title(plot_title)\n",
    "    plt.tight_layout()\n",
    "    plt.axis('off')\n",
    "    plt.imshow(abs(I), cm.gray)\n",
    "\n",
    "#Reading of the image into numpy array:\n",
    "A0           = plt.imread('imgs/img.png')\n",
    "A0          -= np.amin(A0)#map values to the (0, 255) range\n",
    "A0          *= 255.0/np.amax(A0)\n",
    "print('Img         ', np.amax(A0), np.amin(A0))\n",
    "#>>> Img          255.0 0.0\n",
    "\n",
    "#Kernel for negative Laplacian\n",
    "kernel      = np.ones((3,3))*(-1)\n",
    "kernel[1,1] = 8\n",
    "\n",
    "#Convolution of the image with the kernel:\n",
    "Lap        = scipy.ndimage.filters.convolve(A0, kernel)\n",
    "\n",
    "#Laplacian now has negative values\n",
    "print('Original Lap', np.amax(Lap), np.amin(Lap))\n",
    "#>>> Original Lap 1151.0 -1166.0\n",
    "\n",
    "#Map Laplacian to some new range:\n",
    "Laps        = Lap*100.0/np.amax(Lap) #Sharpening factor!\n",
    "print('Scaled Lap  ', np.amax(Laps), np.amin(Laps))\n",
    "#>>> Scaled Lap   100.0 -101.303\n",
    "\n",
    "plt.figure(pic_n)\n",
    "pic_n += 1\n",
    "plt.subplot(1,2,1)\n",
    "show_abs(Lap, 'Laplacian')\n",
    "plt.subplot(1,2,2)\n",
    "show_abs(Laps, 'Scaled Laplacian')\n",
    "\n",
    "A           = A0 + Laps #Add negative Laplacian to the original image\n",
    "\n",
    "print('SharpImg    ', np.amax(A), np.amin(A))\n",
    "#>>> SharpImg     350.917 -81.06\n",
    "\n",
    "A = abs(A) #Get rid of negative values\n",
    "print('SharpImg abs', np.amax(A), np.amin(A))\n",
    "\n",
    "A           *= 255.0/np.amax(A)\n",
    "print('SharpImg after scaling', np.amax(A), np.amin(A))\n",
    "#>>> SharpImg abs 350.917 0.0\n",
    "\n",
    "# Local Histogram Equalization with OpenCV:\n",
    "A_cv2       = A\n",
    "A_cv2       = A_cv2.astype(np.uint8)\n",
    "\n",
    "tile_s0     = 4\n",
    "tile_s1     = 4\n",
    "\n",
    "clahe       = cv2.createCLAHE(clipLimit=1, tileGridSize=(tile_s0,tile_s1))\n",
    "A_cv2       = clahe.apply(A_cv2)\n",
    "\n",
    "plt.imshow(A_cv2)"
   ]
  },
  {
   "cell_type": "code",
   "execution_count": null,
   "metadata": {
    "collapsed": true
   },
   "outputs": [],
   "source": []
  }
 ],
 "metadata": {
  "kernelspec": {
   "display_name": "Python [conda root]",
   "language": "python",
   "name": "conda-root-py"
  },
  "language_info": {
   "codemirror_mode": {
    "name": "ipython",
    "version": 3
   },
   "file_extension": ".py",
   "mimetype": "text/x-python",
   "name": "python",
   "nbconvert_exporter": "python",
   "pygments_lexer": "ipython3",
   "version": "3.5.4"
  }
 },
 "nbformat": 4,
 "nbformat_minor": 2
}
